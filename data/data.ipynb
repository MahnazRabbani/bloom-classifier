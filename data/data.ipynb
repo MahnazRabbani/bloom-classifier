{
 "cells": [
  {
   "attachments": {},
   "cell_type": "markdown",
   "metadata": {},
   "source": [
    "**Attention: Large Dataset**   \n",
    "\n",
    "As the dataset is quite large, we regret that we cannot upload it directly. However, you can easily obtain the dataset by following these simple steps:      \n",
    "\n",
    "Download the dataset using the provided script below:"
   ]
  },
  {
   "cell_type": "code",
   "execution_count": null,
   "metadata": {},
   "outputs": [],
   "source": [
    "import os\n",
    "import urllib.request\n",
    "\n",
    "# Download the data\n",
    "data_url = \"http://www.robots.ox.ac.uk/~vgg/data/flowers/102/102flowers.tgz\"\n",
    "data_file = \"./data/102flowers.tgz\"\n",
    "os.makedirs(os.path.dirname(data_file), exist_ok=True)\n",
    "urllib.request.urlretrieve(data_url, data_file)\n"
   ]
  },
  {
   "attachments": {},
   "cell_type": "markdown",
   "metadata": {},
   "source": [
    "Once the download is complete, you can extract the data and load it into your project using the following code:"
   ]
  },
  {
   "cell_type": "code",
   "execution_count": null,
   "metadata": {},
   "outputs": [],
   "source": [
    "import tarfile\n",
    "import cv2\n",
    "\n",
    "\n",
    "# Extract the data\n",
    "with tarfile.open(data_file) as tar:\n",
    "    tar.extractall(path='./data')\n",
    "\n",
    "# Load the data\n",
    "image_folder = './data/jpg/'\n",
    "image_files = [os.path.join(image_folder, file) for file in os.listdir(image_folder)]\n",
    "images = [cv2.imread(file) for file in image_files]"
   ]
  }
 ],
 "metadata": {
  "kernelspec": {
   "display_name": "venv_bloom-classifier",
   "language": "python",
   "name": "python3"
  },
  "language_info": {
   "name": "python",
   "version": "3.8.2 (default, Aug 10 2020, 05:49:21) \n[Clang 12.0.0 (clang-1200.0.31.1)]"
  },
  "orig_nbformat": 4,
  "vscode": {
   "interpreter": {
    "hash": "acdc56c228ce9299a1ca8585019160b9306fcacb61c64dd72dac66a4be909377"
   }
  }
 },
 "nbformat": 4,
 "nbformat_minor": 2
}
